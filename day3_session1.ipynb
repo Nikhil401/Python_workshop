{
  "nbformat": 4,
  "nbformat_minor": 0,
  "metadata": {
    "colab": {
      "name": "day3_session1.ipynb",
      "provenance": [],
      "collapsed_sections": [],
      "authorship_tag": "ABX9TyNVj7+RYdU25sWHVha0Dn+8",
      "include_colab_link": true
    },
    "kernelspec": {
      "name": "python3",
      "display_name": "Python 3"
    }
  },
  "cells": [
    {
      "cell_type": "markdown",
      "metadata": {
        "id": "view-in-github",
        "colab_type": "text"
      },
      "source": [
        "<a href=\"https://colab.research.google.com/github/Nikhil401/Python_workshop/blob/master/day3_session1.ipynb\" target=\"_parent\"><img src=\"https://colab.research.google.com/assets/colab-badge.svg\" alt=\"Open In Colab\"/></a>"
      ]
    },
    {
      "cell_type": "markdown",
      "metadata": {
        "id": "b0AE8xJXVPuQ",
        "colab_type": "text"
      },
      "source": [
        "#Program for prime number -bad code"
      ]
    },
    {
      "cell_type": "code",
      "metadata": {
        "id": "0JEQXCalVVll",
        "colab_type": "code",
        "colab": {
          "base_uri": "https://localhost:8080/",
          "height": 34
        },
        "outputId": "fccc7935-f763-4a7c-f6a9-e45f6ada523f"
      },
      "source": [
        "i=25\n",
        "for x in range(2, i//2+1):\n",
        "      if i%x==0:\n",
        "         print(\"The number {} is not prime\".format(i))\n",
        "         break\n",
        "if x ==i//2:\n",
        "   print (\"{} is a prime number\".format(i))"
      ],
      "execution_count": 1,
      "outputs": [
        {
          "output_type": "stream",
          "text": [
            "The number 25 is not prime\n"
          ],
          "name": "stdout"
        }
      ]
    },
    {
      "cell_type": "markdown",
      "metadata": {
        "id": "ZhADx2bcVZg1",
        "colab_type": "text"
      },
      "source": [
        "#Good code using for... else"
      ]
    },
    {
      "cell_type": "code",
      "metadata": {
        "id": "iiXefzcjVh8G",
        "colab_type": "code",
        "colab": {
          "base_uri": "https://localhost:8080/",
          "height": 34
        },
        "outputId": "ee1b5e58-ee06-458f-c30b-6677264ae753"
      },
      "source": [
        "i=25\n",
        "for x in range(2, i//2+1):\n",
        "      if i%x==0:\n",
        "         print(\"The number {} is not prime\".format(i))\n",
        "         break\n",
        "else:\n",
        "    print (\"{} is a prime number\".format(i))"
      ],
      "execution_count": 2,
      "outputs": [
        {
          "output_type": "stream",
          "text": [
            "The number 25 is not prime\n"
          ],
          "name": "stdout"
        }
      ]
    },
    {
      "cell_type": "markdown",
      "metadata": {
        "id": "5lkdvqcrVkw5",
        "colab_type": "text"
      },
      "source": [
        "#Using Unpacking to Write Concise Code"
      ]
    },
    {
      "cell_type": "code",
      "metadata": {
        "id": "pRCX_wJzVpfQ",
        "colab_type": "code",
        "colab": {
          "base_uri": "https://localhost:8080/",
          "height": 51
        },
        "outputId": "6a4ea40d-ba33-4b2a-9998-541dbfa4df0c"
      },
      "source": [
        "\n",
        "a, b = 2, 'my-string'\n",
        "print(a)\n",
        "print(b)"
      ],
      "execution_count": 3,
      "outputs": [
        {
          "output_type": "stream",
          "text": [
            "2\n",
            "my-string\n"
          ],
          "name": "stdout"
        }
      ]
    },
    {
      "cell_type": "markdown",
      "metadata": {
        "id": "n1N5BHdEVto-",
        "colab_type": "text"
      },
      "source": [
        "#Bad unpacking"
      ]
    },
    {
      "cell_type": "code",
      "metadata": {
        "id": "hac-WI8kV3kI",
        "colab_type": "code",
        "colab": {
          "base_uri": "https://localhost:8080/",
          "height": 34
        },
        "outputId": "bfdfd246-a833-4884-bf89-0d26124f0333"
      },
      "source": [
        "x = (1, 2, 4, 8, 16)\n",
        "a = x[0]\n",
        "b = x[1]\n",
        "c = x[2]\n",
        "d = x[3]\n",
        "e = x[4]\n",
        "print(a, b, c, d, e)"
      ],
      "execution_count": 4,
      "outputs": [
        {
          "output_type": "stream",
          "text": [
            "1 2 4 8 16\n"
          ],
          "name": "stdout"
        }
      ]
    },
    {
      "cell_type": "markdown",
      "metadata": {
        "id": "QYszPPRKV55E",
        "colab_type": "text"
      },
      "source": [
        "#Excellent unpacking"
      ]
    },
    {
      "cell_type": "code",
      "metadata": {
        "id": "gdlBWsKgWCzS",
        "colab_type": "code",
        "colab": {
          "base_uri": "https://localhost:8080/",
          "height": 34
        },
        "outputId": "2cbb926c-06b3-4d50-ceeb-61d788899453"
      },
      "source": [
        "\n",
        "a,b,c,d,e=x\n",
        "print(a, b, c, d, e)"
      ],
      "execution_count": 5,
      "outputs": [
        {
          "output_type": "stream",
          "text": [
            "1 2 4 8 16\n"
          ],
          "name": "stdout"
        }
      ]
    },
    {
      "cell_type": "markdown",
      "metadata": {
        "id": "59JmHnfHWG8O",
        "colab_type": "text"
      },
      "source": [
        "#unpacking some elements"
      ]
    },
    {
      "cell_type": "code",
      "metadata": {
        "id": "EUsF4gY9WLM0",
        "colab_type": "code",
        "colab": {
          "base_uri": "https://localhost:8080/",
          "height": 68
        },
        "outputId": "ab4f5443-0489-4d39-8184-abe44a3fe722"
      },
      "source": [
        "\n",
        "a, *y, e = x\n",
        "print(a)\n",
        "print(y)\n",
        "print(e)"
      ],
      "execution_count": 6,
      "outputs": [
        {
          "output_type": "stream",
          "text": [
            "1\n",
            "[2, 4, 8]\n",
            "16\n"
          ],
          "name": "stdout"
        }
      ]
    },
    {
      "cell_type": "markdown",
      "metadata": {
        "id": "Oygt02a2WOfX",
        "colab_type": "text"
      },
      "source": [
        "#Using Chaining to Write Concise Code"
      ]
    },
    {
      "cell_type": "code",
      "metadata": {
        "id": "I960t_NoWTDQ",
        "colab_type": "code",
        "colab": {
          "base_uri": "https://localhost:8080/",
          "height": 34
        },
        "outputId": "65ec5dc1-c73e-4be2-be2d-31fc7c93b4d3"
      },
      "source": [
        "\n",
        "x = 4\n",
        "print(x >= 2 and x <= 8)"
      ],
      "execution_count": 7,
      "outputs": [
        {
          "output_type": "stream",
          "text": [
            "True\n"
          ],
          "name": "stdout"
        }
      ]
    },
    {
      "cell_type": "markdown",
      "metadata": {
        "id": "UUaYkvFgWXsj",
        "colab_type": "text"
      },
      "source": [
        "#Instead, you can write this in a more compact form, like mathematicians do:"
      ]
    },
    {
      "cell_type": "code",
      "metadata": {
        "id": "7JUSJoYYWcgE",
        "colab_type": "code",
        "colab": {
          "base_uri": "https://localhost:8080/",
          "height": 51
        },
        "outputId": "52a3aad3-dd52-4d25-aa23-6772bb77aff0"
      },
      "source": [
        "print(2 <= x <= 8)\n",
        "print(2 <= x <= 3)"
      ],
      "execution_count": 8,
      "outputs": [
        {
          "output_type": "stream",
          "text": [
            "True\n",
            "False\n"
          ],
          "name": "stdout"
        }
      ]
    },
    {
      "cell_type": "markdown",
      "metadata": {
        "id": "4vS33PeDWg5c",
        "colab_type": "text"
      },
      "source": [
        "#chained assignments"
      ]
    },
    {
      "cell_type": "code",
      "metadata": {
        "id": "_7qFuFkuWmTe",
        "colab_type": "code",
        "colab": {
          "base_uri": "https://localhost:8080/",
          "height": 34
        },
        "outputId": "0c4543b7-3f44-4c06-8717-d0c314e3827a"
      },
      "source": [
        "\n",
        "x = y = z = 2\n",
        "x, y, z # when we use , it becomes tuple"
      ],
      "execution_count": 9,
      "outputs": [
        {
          "output_type": "execute_result",
          "data": {
            "text/plain": [
              "(2, 2, 2)"
            ]
          },
          "metadata": {
            "tags": []
          },
          "execution_count": 9
        }
      ]
    },
    {
      "cell_type": "markdown",
      "metadata": {
        "id": "29AnZwv8WrPE",
        "colab_type": "text"
      },
      "source": [
        "#Checking against None"
      ]
    },
    {
      "cell_type": "code",
      "metadata": {
        "id": "RyV0DaipWvYr",
        "colab_type": "code",
        "colab": {
          "base_uri": "https://localhost:8080/",
          "height": 85
        },
        "outputId": "8f170637-2408-4cd6-d218-d171839f0bd7"
      },
      "source": [
        "# normal way\n",
        "x, y = 2, None\n",
        "print(x == None)\n",
        "print(y == None)\n",
        "print(x != None)\n",
        "print(y != None)\n",
        " "
      ],
      "execution_count": 10,
      "outputs": [
        {
          "output_type": "stream",
          "text": [
            "False\n",
            "True\n",
            "True\n",
            "False\n"
          ],
          "name": "stdout"
        }
      ]
    },
    {
      "cell_type": "markdown",
      "metadata": {
        "id": "a5Ht7xpMW3HQ",
        "colab_type": "text"
      },
      "source": [
        "#In pythonic way"
      ]
    },
    {
      "cell_type": "code",
      "metadata": {
        "id": "Wgn3UseyW7A-",
        "colab_type": "code",
        "colab": {
          "base_uri": "https://localhost:8080/",
          "height": 85
        },
        "outputId": "235ab5ca-54da-43bf-a8ab-26d87ac6804b"
      },
      "source": [
        "\n",
        "x is None\n",
        "print(x is None)\n",
        "print(y is None)\n",
        "print(x is not None)\n",
        "print(y is not None)"
      ],
      "execution_count": 11,
      "outputs": [
        {
          "output_type": "stream",
          "text": [
            "False\n",
            "True\n",
            "True\n",
            "False\n"
          ],
          "name": "stdout"
        }
      ]
    },
    {
      "cell_type": "markdown",
      "metadata": {
        "id": "_LBIyliTW_1m",
        "colab_type": "text"
      },
      "source": [
        "#Iterating over Sequences"
      ]
    },
    {
      "cell_type": "code",
      "metadata": {
        "id": "9ie6gCinXFTM",
        "colab_type": "code",
        "colab": {
          "base_uri": "https://localhost:8080/",
          "height": 102
        },
        "outputId": "9547f016-397e-46d0-9338-8baf4659865b"
      },
      "source": [
        "\n",
        "x = [1, 2, 4, 8, 16]\n",
        "for i in range(len(x)):\n",
        "  print(x[i])"
      ],
      "execution_count": 12,
      "outputs": [
        {
          "output_type": "stream",
          "text": [
            "1\n",
            "2\n",
            "4\n",
            "8\n",
            "16\n"
          ],
          "name": "stdout"
        }
      ]
    },
    {
      "cell_type": "markdown",
      "metadata": {
        "id": "uxxhMAMwXJ2F",
        "colab_type": "text"
      },
      "source": [
        "#But instead we can do like this in elegant way"
      ]
    },
    {
      "cell_type": "code",
      "metadata": {
        "id": "DAyrXSJ5XQli",
        "colab_type": "code",
        "colab": {
          "base_uri": "https://localhost:8080/",
          "height": 102
        },
        "outputId": "6891d2d6-717d-44ed-a7c1-62a8f696c1cf"
      },
      "source": [
        "\n",
        "for item in x:\n",
        "  print(item)"
      ],
      "execution_count": 13,
      "outputs": [
        {
          "output_type": "stream",
          "text": [
            "1\n",
            "2\n",
            "4\n",
            "8\n",
            "16\n"
          ],
          "name": "stdout"
        }
      ]
    },
    {
      "cell_type": "markdown",
      "metadata": {
        "id": "0nF_ASTaXWhg",
        "colab_type": "text"
      },
      "source": [
        "#to iterate in the reversed order"
      ]
    },
    {
      "cell_type": "code",
      "metadata": {
        "id": "lnFLuPUgXadO",
        "colab_type": "code",
        "colab": {
          "base_uri": "https://localhost:8080/",
          "height": 102
        },
        "outputId": "35e2f8b2-e108-41f7-a603-6a052a43a8c6"
      },
      "source": [
        "for i in range(len(x)-1, -1, -1):\n",
        "  print(x[i])"
      ],
      "execution_count": 14,
      "outputs": [
        {
          "output_type": "stream",
          "text": [
            "16\n",
            "8\n",
            "4\n",
            "2\n",
            "1\n"
          ],
          "name": "stdout"
        }
      ]
    },
    {
      "cell_type": "markdown",
      "metadata": {
        "id": "nRdm1SzrXezm",
        "colab_type": "text"
      },
      "source": [
        "#The Pythonic way is to use reversed to get an iterator that yields the items of a sequence in the reversed order:¶"
      ]
    },
    {
      "cell_type": "code",
      "metadata": {
        "id": "8qNiYCwEXi-t",
        "colab_type": "code",
        "colab": {
          "base_uri": "https://localhost:8080/",
          "height": 34
        },
        "outputId": "16f6ad3f-5add-4892-da05-466f6cddbc4b"
      },
      "source": [
        "  print(item)"
      ],
      "execution_count": 15,
      "outputs": [
        {
          "output_type": "stream",
          "text": [
            "16\n"
          ],
          "name": "stdout"
        }
      ]
    },
    {
      "cell_type": "markdown",
      "metadata": {
        "id": "1dASPr5RXnq2",
        "colab_type": "text"
      },
      "source": [
        "#Sometimes you need both the items from a sequence and the corresponding indices:"
      ]
    },
    {
      "cell_type": "code",
      "metadata": {
        "id": "aaiSgUwWXsnN",
        "colab_type": "code",
        "colab": {
          "base_uri": "https://localhost:8080/",
          "height": 102
        },
        "outputId": "82c7dde8-1da8-435b-aa07-1be958bf652e"
      },
      "source": [
        "for i in range(len(x)):\n",
        "  print(i, x[i])"
      ],
      "execution_count": 16,
      "outputs": [
        {
          "output_type": "stream",
          "text": [
            "0 1\n",
            "1 2\n",
            "2 4\n",
            "3 8\n",
            "4 16\n"
          ],
          "name": "stdout"
        }
      ]
    },
    {
      "cell_type": "markdown",
      "metadata": {
        "id": "_g5K9FOgXyYT",
        "colab_type": "text"
      },
      "source": [
        "#It’s better to use enumerate to get another iterator that yields the tuples with the indices and items:"
      ]
    },
    {
      "cell_type": "code",
      "metadata": {
        "id": "74SbxIClX2-l",
        "colab_type": "code",
        "colab": {
          "base_uri": "https://localhost:8080/",
          "height": 102
        },
        "outputId": "8596cb4d-1966-40e5-c558-1d1f1db24537"
      },
      "source": [
        "\n",
        "for i, item in enumerate(x):\n",
        "  print(i, item)"
      ],
      "execution_count": 17,
      "outputs": [
        {
          "output_type": "stream",
          "text": [
            "0 1\n",
            "1 2\n",
            "2 4\n",
            "3 8\n",
            "4 16\n"
          ],
          "name": "stdout"
        }
      ]
    },
    {
      "cell_type": "markdown",
      "metadata": {
        "id": "A_1uDMUMX6K4",
        "colab_type": "text"
      },
      "source": [
        "#what if you want to iterate over two or more sequences? Of course, you can use the range again:"
      ]
    },
    {
      "cell_type": "code",
      "metadata": {
        "id": "BQV4Y1SQYAM3",
        "colab_type": "code",
        "colab": {
          "base_uri": "https://localhost:8080/",
          "height": 102
        },
        "outputId": "8183d844-adda-4017-b0ee-993a329b8250"
      },
      "source": [
        "y = 'abcde'\n",
        "for i in range(len(x)):\n",
        "  print(x[i], y[i])"
      ],
      "execution_count": 18,
      "outputs": [
        {
          "output_type": "stream",
          "text": [
            "1 a\n",
            "2 b\n",
            "4 c\n",
            "8 d\n",
            "16 e\n"
          ],
          "name": "stdout"
        }
      ]
    },
    {
      "cell_type": "markdown",
      "metadata": {
        "id": "-gCfSkZhYEZZ",
        "colab_type": "text"
      },
      "source": [
        "#In this case, Python also offers a better solution. You can apply zip and get tuples of the corresponding items:"
      ]
    },
    {
      "cell_type": "code",
      "metadata": {
        "id": "k2ptfl9AYJC1",
        "colab_type": "code",
        "colab": {
          "base_uri": "https://localhost:8080/",
          "height": 102
        },
        "outputId": "7255e6f5-ed80-4cc3-e7f5-c4f78caacd1b"
      },
      "source": [
        "for item in zip(x, y):\n",
        "  print(item)"
      ],
      "execution_count": 19,
      "outputs": [
        {
          "output_type": "stream",
          "text": [
            "(1, 'a')\n",
            "(2, 'b')\n",
            "(4, 'c')\n",
            "(8, 'd')\n",
            "(16, 'e')\n"
          ],
          "name": "stdout"
        }
      ]
    },
    {
      "cell_type": "markdown",
      "metadata": {
        "id": "WFWULemzYNpB",
        "colab_type": "text"
      },
      "source": [
        "#You can combine it with unpacking:"
      ]
    },
    {
      "cell_type": "code",
      "metadata": {
        "id": "6flpivCtYRov",
        "colab_type": "code",
        "colab": {
          "base_uri": "https://localhost:8080/",
          "height": 102
        },
        "outputId": "729a25b5-114f-4ac6-8d36-c073f610072b"
      },
      "source": [
        "\n",
        "for x_item, y_item in zip(x, y):\n",
        "  print(x_item, y_item)"
      ],
      "execution_count": 20,
      "outputs": [
        {
          "output_type": "stream",
          "text": [
            "1 a\n",
            "2 b\n",
            "4 c\n",
            "8 d\n",
            "16 e\n"
          ],
          "name": "stdout"
        }
      ]
    },
    {
      "cell_type": "markdown",
      "metadata": {
        "id": "IpO4OaO3YVri",
        "colab_type": "text"
      },
      "source": [
        "#Dictionary can be iterated in these two ways"
      ]
    },
    {
      "cell_type": "code",
      "metadata": {
        "id": "8gF7vPEaYaH4",
        "colab_type": "code",
        "colab": {
          "base_uri": "https://localhost:8080/",
          "height": 51
        },
        "outputId": "6bd89b6c-d8b3-457a-e427-384d1caddb47"
      },
      "source": [
        "z = {'a': 0, 'b': 1}\n",
        "for k in z:\n",
        "  print(k, z[k])"
      ],
      "execution_count": 21,
      "outputs": [
        {
          "output_type": "stream",
          "text": [
            "a 0\n",
            "b 1\n"
          ],
          "name": "stdout"
        }
      ]
    },
    {
      "cell_type": "code",
      "metadata": {
        "id": "WlvH_DV9Yewf",
        "colab_type": "code",
        "colab": {
          "base_uri": "https://localhost:8080/",
          "height": 51
        },
        "outputId": "756f9fb1-fa77-4da4-bb66-cde0a760e036"
      },
      "source": [
        "\n",
        "for k, v in z.items():\n",
        "  print(k, v)"
      ],
      "execution_count": 22,
      "outputs": [
        {
          "output_type": "stream",
          "text": [
            "a 0\n",
            "b 1\n"
          ],
          "name": "stdout"
        }
      ]
    },
    {
      "cell_type": "markdown",
      "metadata": {
        "id": "emI03NoyYjQo",
        "colab_type": "text"
      },
      "source": [
        "#Comparing to Zero"
      ]
    },
    {
      "cell_type": "code",
      "metadata": {
        "id": "KnQUUztCYuA2",
        "colab_type": "code",
        "colab": {
          "base_uri": "https://localhost:8080/",
          "height": 85
        },
        "outputId": "f6a4b3aa-9a7e-4e73-dbbb-88df167a421a"
      },
      "source": [
        "#To print only non zero values from tuple x\n",
        "x = (1, 2, 0, 3, 0, 4)\n",
        "for item in x:\n",
        "    if item != 0:\n",
        "      print(item)"
      ],
      "execution_count": 23,
      "outputs": [
        {
          "output_type": "stream",
          "text": [
            "1\n",
            "2\n",
            "3\n",
            "4\n"
          ],
          "name": "stdout"
        }
      ]
    },
    {
      "cell_type": "markdown",
      "metadata": {
        "id": "bioYmEF0Y5__",
        "colab_type": "text"
      },
      "source": [
        "#The Pythonic way is to exploit the fact that zero is interpreted as False in a Boolean context, while all other numbers are considered as True:"
      ]
    },
    {
      "cell_type": "code",
      "metadata": {
        "id": "OEQnNjGZY-P8",
        "colab_type": "code",
        "colab": {
          "base_uri": "https://localhost:8080/",
          "height": 85
        },
        "outputId": "4c82fc02-2ac7-4a8f-bb67-c251cf5120d6"
      },
      "source": [
        "for item in x:\n",
        "  if item:\n",
        "    print(item)"
      ],
      "execution_count": 24,
      "outputs": [
        {
          "output_type": "stream",
          "text": [
            "1\n",
            "2\n",
            "3\n",
            "4\n"
          ],
          "name": "stdout"
        }
      ]
    },
    {
      "cell_type": "markdown",
      "metadata": {
        "id": "nA0CZc5uZCr1",
        "colab_type": "text"
      },
      "source": [
        "#Avoiding Mutable Optional Arguments"
      ]
    },
    {
      "cell_type": "code",
      "metadata": {
        "id": "tR7ULzXbZJ1_",
        "colab_type": "code",
        "colab": {
          "base_uri": "https://localhost:8080/",
          "height": 85
        },
        "outputId": "ba954f31-2cf2-4383-ac57-8617bc554264"
      },
      "source": [
        "\n",
        "def func(value, seq=[]):\n",
        "  seq.append(value)\n",
        "  return seq\n",
        "print(func(value=2))\n",
        "print(func(value=4))\n",
        "print(func(value=6))\n",
        "print(func(value=8))"
      ],
      "execution_count": 25,
      "outputs": [
        {
          "output_type": "stream",
          "text": [
            "[2]\n",
            "[2, 4]\n",
            "[2, 4, 6]\n",
            "[2, 4, 6, 8]\n"
          ],
          "name": "stdout"
        }
      ]
    },
    {
      "cell_type": "markdown",
      "metadata": {
        "id": "ms_2JQB8ZQ9K",
        "colab_type": "text"
      },
      "source": [
        "#keep away from that with some additional logic."
      ]
    },
    {
      "cell_type": "code",
      "metadata": {
        "id": "DIbY5I9TZUzc",
        "colab_type": "code",
        "colab": {
          "base_uri": "https://localhost:8080/",
          "height": 34
        },
        "outputId": "8d4e7374-2119-40bf-e333-ae767eeee950"
      },
      "source": [
        "def func(value, seq=None):\n",
        "  if seq is None:\n",
        "    seq = []\n",
        "    seq.append(value)\n",
        "    return seq\n",
        "print(func(value=6))"
      ],
      "execution_count": 26,
      "outputs": [
        {
          "output_type": "stream",
          "text": [
            "[6]\n"
          ],
          "name": "stdout"
        }
      ]
    },
    {
      "cell_type": "markdown",
      "metadata": {
        "id": "pWq_sAR0ZZy2",
        "colab_type": "text"
      },
      "source": [
        "#Exercise programs\n",
        "\n",
        "Write a Python program to find numbers between 100 and 400 (both included) which are divisable both by 5 or 7. The numbers obtained should be printed in a comma-separated sequence¶"
      ]
    },
    {
      "cell_type": "code",
      "metadata": {
        "id": "iHeoHKhdZg6m",
        "colab_type": "code",
        "colab": {
          "base_uri": "https://localhost:8080/",
          "height": 54
        },
        "outputId": "9ac562d5-4b08-4731-e5ae-d85c6601cbd7"
      },
      "source": [
        "nl=[]\n",
        "for x in range(100, 400):\n",
        "    if (x%7==0):\n",
        "        nl.append(str(x))\n",
        "print (','.join(nl))"
      ],
      "execution_count": 27,
      "outputs": [
        {
          "output_type": "stream",
          "text": [
            "105,112,119,126,133,140,147,154,161,168,175,182,189,196,203,210,217,224,231,238,245,252,259,266,273,280,287,294,301,308,315,322,329,336,343,350,357,364,371,378,385,392,399\n"
          ],
          "name": "stdout"
        }
      ]
    },
    {
      "cell_type": "markdown",
      "metadata": {
        "id": "P64obZ_sZmUq",
        "colab_type": "text"
      },
      "source": [
        "#Write a Python program to find prime numbers between 200 and 600 (both included). The numbers obtained should be printed in a comma-separated sequence"
      ]
    },
    {
      "cell_type": "code",
      "metadata": {
        "id": "fL96rIPLZqnx",
        "colab_type": "code",
        "colab": {
          "base_uri": "https://localhost:8080/",
          "height": 1000
        },
        "outputId": "afbc3dab-77b8-475f-8b0d-a2968cd5b942"
      },
      "source": [
        "\n",
        "start = 200\n",
        "end = 600\n",
        "  \n",
        "for val in range(start, end + 1): \n",
        "    if val > 1: \n",
        "        for n in range(2, val//2 + 2): \n",
        "            if (val % n) == 0: \n",
        "                break\n",
        "            else: \n",
        "                if n == val//2 + 1: \n",
        "                    print(val)"
      ],
      "execution_count": 28,
      "outputs": [
        {
          "output_type": "stream",
          "text": [
            "211\n",
            "223\n",
            "227\n",
            "229\n",
            "233\n",
            "239\n",
            "241\n",
            "251\n",
            "257\n",
            "263\n",
            "269\n",
            "271\n",
            "277\n",
            "281\n",
            "283\n",
            "293\n",
            "307\n",
            "311\n",
            "313\n",
            "317\n",
            "331\n",
            "337\n",
            "347\n",
            "349\n",
            "353\n",
            "359\n",
            "367\n",
            "373\n",
            "379\n",
            "383\n",
            "389\n",
            "397\n",
            "401\n",
            "409\n",
            "419\n",
            "421\n",
            "431\n",
            "433\n",
            "439\n",
            "443\n",
            "449\n",
            "457\n",
            "461\n",
            "463\n",
            "467\n",
            "479\n",
            "487\n",
            "491\n",
            "499\n",
            "503\n",
            "509\n",
            "521\n",
            "523\n",
            "541\n",
            "547\n",
            "557\n",
            "563\n",
            "569\n",
            "571\n",
            "577\n",
            "587\n",
            "593\n",
            "599\n"
          ],
          "name": "stdout"
        }
      ]
    },
    {
      "cell_type": "markdown",
      "metadata": {
        "id": "0PofKHwsZw4Y",
        "colab_type": "text"
      },
      "source": [
        "#Write a Python program to find All Numbers which are Odd and Palindromes Between a Range of Numbers without using Recursion. The numbers obtained should be printed in a comma-separated sequence"
      ]
    },
    {
      "cell_type": "code",
      "metadata": {
        "id": "LQiMdfElZ0q0",
        "colab_type": "code",
        "colab": {
          "base_uri": "https://localhost:8080/",
          "height": 68
        },
        "outputId": "941eb0a1-8e94-427a-e3e9-300ea6021a62"
      },
      "source": [
        "a=[]\n",
        "l=int(input(\"Enter lower limit: \"))\n",
        "u=int(input(\"Enter upper limit: \"))\n",
        "a=[x for x in range(l,u+1) if x%2!=0 and str(x)==str(x)[::-1]]\n",
        "print(\"The numbers are: \",a)"
      ],
      "execution_count": 29,
      "outputs": [
        {
          "output_type": "stream",
          "text": [
            "Enter lower limit: 100\n",
            "Enter upper limit: 150\n",
            "The numbers are:  [101, 111, 121, 131, 141]\n"
          ],
          "name": "stdout"
        }
      ]
    },
    {
      "cell_type": "markdown",
      "metadata": {
        "id": "kcdCYjeuZ-NB",
        "colab_type": "text"
      },
      "source": [
        "#Write a Python Program to read a number n and print the series “5+10+…..+n = sum upto n ” . The numbers should be printed as they are shown in the quotes with sum of numbers upto n"
      ]
    },
    {
      "cell_type": "code",
      "metadata": {
        "id": "e5WGC0FLaDXe",
        "colab_type": "code",
        "colab": {
          "base_uri": "https://localhost:8080/",
          "height": 221
        },
        "outputId": "a24c7c47-5600-482c-86cb-87941893f3cb"
      },
      "source": [
        "n=int(input(\"Enter a number: \"))\n",
        "for j in range(1,n+1):\n",
        "    a=[]\n",
        "    for i in range(1,j+1):\n",
        "        print(i,sep=\" \",end=\" \")\n",
        "        if(i<j):\n",
        "            print(\"+\",sep=\" \",end=\" \")\n",
        "        a.append(i)\n",
        "    print(\"=\",sum(a))\n",
        " \n",
        "print()"
      ],
      "execution_count": 30,
      "outputs": [
        {
          "output_type": "stream",
          "text": [
            "Enter a number: 10\n",
            "1 = 1\n",
            "1 + 2 = 3\n",
            "1 + 2 + 3 = 6\n",
            "1 + 2 + 3 + 4 = 10\n",
            "1 + 2 + 3 + 4 + 5 = 15\n",
            "1 + 2 + 3 + 4 + 5 + 6 = 21\n",
            "1 + 2 + 3 + 4 + 5 + 6 + 7 = 28\n",
            "1 + 2 + 3 + 4 + 5 + 6 + 7 + 8 = 36\n",
            "1 + 2 + 3 + 4 + 5 + 6 + 7 + 8 + 9 = 45\n",
            "1 + 2 + 3 + 4 + 5 + 6 + 7 + 8 + 9 + 10 = 55\n",
            "\n"
          ],
          "name": "stdout"
        }
      ]
    }
  ]
}