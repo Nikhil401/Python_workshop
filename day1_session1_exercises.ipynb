{
  "nbformat": 4,
  "nbformat_minor": 0,
  "metadata": {
    "colab": {
      "name": "day1_session1_exercises.ipynb",
      "provenance": [],
      "collapsed_sections": [],
      "authorship_tag": "ABX9TyNMOMQ6zv1tXIbItzsyPUOP",
      "include_colab_link": true
    },
    "kernelspec": {
      "name": "python3",
      "display_name": "Python 3"
    }
  },
  "cells": [
    {
      "cell_type": "markdown",
      "metadata": {
        "id": "view-in-github",
        "colab_type": "text"
      },
      "source": [
        "<a href=\"https://colab.research.google.com/github/Nikhil401/Python_workshop/blob/master/day1_session1_exercises.ipynb\" target=\"_parent\"><img src=\"https://colab.research.google.com/assets/colab-badge.svg\" alt=\"Open In Colab\"/></a>"
      ]
    },
    {
      "cell_type": "markdown",
      "metadata": {
        "id": "mmnVfKNzQM77",
        "colab_type": "text"
      },
      "source": [
        "#1. Find the compound interest for the given p,n,r  (formula : p(1+n*r/100)n )\n",
        "\n",
        "> Indented block\n",
        "\n"
      ]
    },
    {
      "cell_type": "code",
      "metadata": {
        "id": "p1BGUnzeQQLB",
        "colab_type": "code",
        "colab": {
          "base_uri": "https://localhost:8080/",
          "height": 34
        },
        "outputId": "f8819ac6-dbd2-4bf9-dea6-c54b8a700d05"
      },
      "source": [
        "# interest for given values. \n",
        "\n",
        "def compound_interest(principle, rate, time): \n",
        "\n",
        "\t# Calculates compound interest \n",
        "\tAmount = principle * (pow((1 + rate / 100), time)) \n",
        "\tCI = Amount - principle \n",
        "\tprint(\"Compound interest is\", CI) \n",
        "\n",
        "\n",
        "compound_interest(10000, 10.25, 5)"
      ],
      "execution_count": null,
      "outputs": [
        {
          "output_type": "stream",
          "text": [
            "Compound interest is 6288.946267774416\n"
          ],
          "name": "stdout"
        }
      ]
    },
    {
      "cell_type": "markdown",
      "metadata": {
        "id": "-kReu5TnQQ11",
        "colab_type": "text"
      },
      "source": [
        "#2. Convert centegrade to farenheit  ( f= 9/5*c+32)"
      ]
    },
    {
      "cell_type": "code",
      "metadata": {
        "id": "s-ntsrZPQZBP",
        "colab_type": "code",
        "colab": {
          "base_uri": "https://localhost:8080/",
          "height": 51
        },
        "outputId": "d698e170-d5b2-41fd-968a-f48cf739d0ba"
      },
      "source": [
        "\n",
        "c = float(input(\"Enter temperature in celsius: \"))\n",
        "fahrenheit = (c * 9/5) + 32\n",
        "print('%.2f Centegrade is: %0.2f Fahrenheit' %(c, fahrenheit))"
      ],
      "execution_count": null,
      "outputs": [
        {
          "output_type": "stream",
          "text": [
            "Enter temperature in celsius: 30\n",
            "30.00 Centegrade is: 86.00 Fahrenheit\n"
          ],
          "name": "stdout"
        }
      ]
    },
    {
      "cell_type": "markdown",
      "metadata": {
        "id": "jlY4ZRTfRIUw",
        "colab_type": "text"
      },
      "source": [
        "#3. Find the greater of two nos"
      ]
    },
    {
      "cell_type": "code",
      "metadata": {
        "id": "yTIby2tZRRFM",
        "colab_type": "code",
        "colab": {
          "base_uri": "https://localhost:8080/",
          "height": 68
        },
        "outputId": "ef351f97-a4c2-4495-c877-a8927fb69293"
      },
      "source": [
        "# Python Program to find Largest of Two Numbers\n",
        "\n",
        "a = float(input(\" Please Enter the First Value a: \"))\n",
        "b = float(input(\" Please Enter the Second Value b: \"))\n",
        "\n",
        "if(a > b):\n",
        "    print(\"{0} is Greater than {1}\".format(a, b))\n",
        "elif(b > a):\n",
        "    print(\"{0} is Greater than {1}\".format(b, a))\n",
        "else:\n",
        "    print(\"Both a and b are Equal\")"
      ],
      "execution_count": null,
      "outputs": [
        {
          "output_type": "stream",
          "text": [
            " Please Enter the First Value a: 50\n",
            " Please Enter the Second Value b: 55\n",
            "55.0 is Greater than 50.0\n"
          ],
          "name": "stdout"
        }
      ]
    },
    {
      "cell_type": "markdown",
      "metadata": {
        "id": "jv_Ad02FRaXT",
        "colab_type": "text"
      },
      "source": [
        "#4. Write a program for finding surface areas of cylinder and cone (2PIrrh, 1/3PIrrh) using function."
      ]
    },
    {
      "cell_type": "code",
      "metadata": {
        "id": "N4DIXlfpRji-",
        "colab_type": "code",
        "colab": {
          "base_uri": "https://localhost:8080/",
          "height": 51
        },
        "outputId": "abcccf4b-7cbc-4154-8c31-d1352f03c123"
      },
      "source": [
        "# Importing Math library for value Of PI \n",
        "import math \n",
        "pi = math.pi \n",
        "  \n",
        "# Function to calculate Volume of Cone \n",
        "def volume(r, h): \n",
        "    return (1 / 3) * pi * r * r * h \n",
        "  \n",
        "# Function To Calculate Surface Area of Cone \n",
        "def surfacearea(r, s): \n",
        "    return pi * r * s + pi * r * r \n",
        "radius = float(5) \n",
        "height = float(12) \n",
        "slat_height = float(13) \n",
        "print( \"Volume Of Cone : \", volume(radius, height) ) \n",
        "print( \"Surface Area Of Cone : \", surfacearea(radius, slat_height) )"
      ],
      "execution_count": null,
      "outputs": [
        {
          "output_type": "stream",
          "text": [
            "Volume Of Cone :  314.15926535897927\n",
            "Surface Area Of Cone :  282.7433388230814\n"
          ],
          "name": "stdout"
        }
      ]
    },
    {
      "cell_type": "markdown",
      "metadata": {
        "id": "4oWtQJcFRnuB",
        "colab_type": "text"
      },
      "source": [
        "#5. Find the greatest of four nos ( using ‘and’ operator) using function."
      ]
    },
    {
      "cell_type": "code",
      "metadata": {
        "id": "1fk-ylqaRzbz",
        "colab_type": "code",
        "colab": {
          "base_uri": "https://localhost:8080/",
          "height": 85
        },
        "outputId": "1e40ec69-cbdb-4c31-9919-4992b300409f"
      },
      "source": [
        "num1=int(input(\"Enter the first number: \"));\n",
        "num2=int(input(\"Enter the second number: \"));\n",
        "num3=int(input(\"Enter the Third number: \"));\n",
        "def find_Biggest():      #function definition\n",
        "     if(num1>=num2) and (num1>=num2):\n",
        "         largest=num1\n",
        "     elif(num2>=num1) and (num2>=num3):\n",
        "         largest=num2\n",
        "     else:\n",
        "         largest=num3\n",
        "     print(\"Largest number is\",largest)\n",
        "find_Biggest();"
      ],
      "execution_count": null,
      "outputs": [
        {
          "output_type": "stream",
          "text": [
            "Enter the first number: 50\n",
            "Enter the second number: 60\n",
            "Enter the Third number: 55\n",
            "Largest number is 60\n"
          ],
          "name": "stdout"
        }
      ]
    }
  ]
}