{
  "nbformat": 4,
  "nbformat_minor": 0,
  "metadata": {
    "colab": {
      "name": "day1_session2_exercises.ipynb",
      "provenance": [],
      "collapsed_sections": [],
      "authorship_tag": "ABX9TyNWgE20jYL00rpMeCFWJlyE",
      "include_colab_link": true
    },
    "kernelspec": {
      "name": "python3",
      "display_name": "Python 3"
    }
  },
  "cells": [
    {
      "cell_type": "markdown",
      "metadata": {
        "id": "view-in-github",
        "colab_type": "text"
      },
      "source": [
        "<a href=\"https://colab.research.google.com/github/Nikhil401/Python_workshop/blob/master/day1_session2_exercises.ipynb\" target=\"_parent\"><img src=\"https://colab.research.google.com/assets/colab-badge.svg\" alt=\"Open In Colab\"/></a>"
      ]
    },
    {
      "cell_type": "markdown",
      "metadata": {
        "id": "CzmS7fpKVfrV",
        "colab_type": "text"
      },
      "source": [
        "#1.Write a program to print the triangle "
      ]
    },
    {
      "cell_type": "code",
      "metadata": {
        "id": "uicP-6XdVhV-",
        "colab_type": "code",
        "colab": {
          "base_uri": "https://localhost:8080/",
          "height": 119
        },
        "outputId": "b9ccf9a6-4429-4493-84db-6477a8f1c1ab"
      },
      "source": [
        "#  1. Write a program to print the triangle\n",
        "\n",
        "n = int(input('Enter the number'))\n",
        "for i in range(n+1):\n",
        "    for j in range(i):\n",
        "        k=i+j\n",
        "        print (k , end=\" \")\n",
        "    print('')"
      ],
      "execution_count": 2,
      "outputs": [
        {
          "output_type": "stream",
          "text": [
            "Enter the number4\n",
            "\n",
            "1 \n",
            "2 3 \n",
            "3 4 5 \n",
            "4 5 6 7 \n"
          ],
          "name": "stdout"
        }
      ]
    },
    {
      "cell_type": "markdown",
      "metadata": {
        "id": "8-QNB2YRVho-",
        "colab_type": "text"
      },
      "source": [
        "#2. Enter number 4"
      ]
    },
    {
      "cell_type": "code",
      "metadata": {
        "id": "BQ-dx5euVo1A",
        "colab_type": "code",
        "colab": {
          "base_uri": "https://localhost:8080/",
          "height": 119
        },
        "outputId": "37ead7bb-e92a-49e1-e27b-f37b8702327e"
      },
      "source": [
        "n = int(input('Enter the number'))\n",
        "for i in range(n+1):\n",
        "    for j in range(i):\n",
        "        print ('*  ' , end=\"\")\n",
        "    print('')"
      ],
      "execution_count": 3,
      "outputs": [
        {
          "output_type": "stream",
          "text": [
            "Enter the number4\n",
            "\n",
            "*  \n",
            "*  *  \n",
            "*  *  *  \n",
            "*  *  *  *  \n"
          ],
          "name": "stdout"
        }
      ]
    },
    {
      "cell_type": "markdown",
      "metadata": {
        "id": "fcRwbtkgVpVL",
        "colab_type": "text"
      },
      "source": [
        "#3.Enter number 5"
      ]
    },
    {
      "cell_type": "code",
      "metadata": {
        "id": "MIlD3kzWVvOJ",
        "colab_type": "code",
        "colab": {
          "base_uri": "https://localhost:8080/",
          "height": 136
        },
        "outputId": "c28cbb0d-d674-458f-80f2-b06b7b43319e"
      },
      "source": [
        "n= int(input('Enter the number'))\n",
        "for i in range(n+1):\n",
        "    k=n-i+1\n",
        "    for j in range(i):\n",
        "        print (k, end=\" \")\n",
        "        k=k+1\n",
        "    print('')"
      ],
      "execution_count": 4,
      "outputs": [
        {
          "output_type": "stream",
          "text": [
            "Enter the number5\n",
            "\n",
            "5 \n",
            "4 5 \n",
            "3 4 5 \n",
            "2 3 4 5 \n",
            "1 2 3 4 5 \n"
          ],
          "name": "stdout"
        }
      ]
    },
    {
      "cell_type": "markdown",
      "metadata": {
        "id": "fEMHrnCTVyKm",
        "colab_type": "text"
      },
      "source": [
        "#4.Enter number 5"
      ]
    },
    {
      "cell_type": "code",
      "metadata": {
        "id": "68kl9uKSV3pR",
        "colab_type": "code",
        "colab": {
          "base_uri": "https://localhost:8080/",
          "height": 136
        },
        "outputId": "0e32ff9c-5a54-4cfe-c9ed-0d7850bdd742"
      },
      "source": [
        "n= int(input('Enter the number'))\n",
        "for i in range(n+1):\n",
        "    k=n-i\n",
        "    for j in range(n-i):\n",
        "        print (k, end=\" \")\n",
        "        k=k-1\n",
        "    print('')"
      ],
      "execution_count": 5,
      "outputs": [
        {
          "output_type": "stream",
          "text": [
            "Enter the number5\n",
            "5 4 3 2 1 \n",
            "4 3 2 1 \n",
            "3 2 1 \n",
            "2 1 \n",
            "1 \n",
            "\n"
          ],
          "name": "stdout"
        }
      ]
    },
    {
      "cell_type": "markdown",
      "metadata": {
        "id": "EIhSwtPCV4GV",
        "colab_type": "text"
      },
      "source": [
        "#5.Enter number 4"
      ]
    },
    {
      "cell_type": "code",
      "metadata": {
        "id": "RMSSi-cqV9Vk",
        "colab_type": "code",
        "colab": {
          "base_uri": "https://localhost:8080/",
          "height": 153
        },
        "outputId": "d5c99ea5-d156-4822-e47e-b97927f357ea"
      },
      "source": [
        "\n",
        "n= int(input('Enter the number'))\n",
        "for i in range(n+1):\n",
        "    k=i+1\n",
        "    for j in range(n-i):\n",
        "        print (k, end=\" \")\n",
        "        k=k+1\n",
        "    if (i+1) != (n+1):\n",
        "        print('')\n",
        "for i in range(n-1):\n",
        "    k=n-i-1\n",
        "    for j in range(i+2):\n",
        "        print (k, end=\" \")\n",
        "        k=k+1\n",
        "    print('')\n"
      ],
      "execution_count": 6,
      "outputs": [
        {
          "output_type": "stream",
          "text": [
            "Enter the number4\n",
            "1 2 3 4 \n",
            "2 3 4 \n",
            "3 4 \n",
            "4 \n",
            "3 4 \n",
            "2 3 4 \n",
            "1 2 3 4 \n"
          ],
          "name": "stdout"
        }
      ]
    },
    {
      "cell_type": "markdown",
      "metadata": {
        "id": "W9FXBcveV9oB",
        "colab_type": "text"
      },
      "source": [
        "#6.Find the length of a string without using len functions"
      ]
    },
    {
      "cell_type": "code",
      "metadata": {
        "id": "ncQvlnlgWDKP",
        "colab_type": "code",
        "colab": {
          "base_uri": "https://localhost:8080/",
          "height": 68
        },
        "outputId": "5e7f2876-c389-450d-ee91-788bd03e65a4"
      },
      "source": [
        "string=input(\"Enter string:\")\n",
        "count=0\n",
        "for i in string:\n",
        "    count=count+1\n",
        "print(\"Length of string is:\")\n",
        "print(count)"
      ],
      "execution_count": 7,
      "outputs": [
        {
          "output_type": "stream",
          "text": [
            "Enter string:hello world\n",
            "Length of string is:\n",
            "11\n"
          ],
          "name": "stdout"
        }
      ]
    },
    {
      "cell_type": "markdown",
      "metadata": {
        "id": "RmX0AjOkWDfd",
        "colab_type": "text"
      },
      "source": [
        "#7.Find the no of words and characters in a string"
      ]
    },
    {
      "cell_type": "code",
      "metadata": {
        "id": "7f3nYOsYWIM-",
        "colab_type": "code",
        "colab": {
          "base_uri": "https://localhost:8080/",
          "height": 102
        },
        "outputId": "6ba49915-1eb7-4742-8757-34fc9f44322e"
      },
      "source": [
        "string=input(\"Enter string:\")\n",
        "char=0\n",
        "word=0\n",
        "for i in string:\n",
        "      if(i==' '):\n",
        "            if(char!=0):\n",
        "                  word=word+1\n",
        "      char=char+1\n",
        "if(char!=0):            \n",
        "      word=word+1\n",
        "print(\"Number of words is:\")\n",
        "print(word)\n",
        "print(\"Number of characters is:\")\n",
        "print(char)"
      ],
      "execution_count": 8,
      "outputs": [
        {
          "output_type": "stream",
          "text": [
            "Enter string:Hello world\n",
            "Number of words is:\n",
            "2\n",
            "Number of characters is:\n",
            "11\n"
          ],
          "name": "stdout"
        }
      ]
    },
    {
      "cell_type": "markdown",
      "metadata": {
        "id": "CNDUbrbqWI7B",
        "colab_type": "text"
      },
      "source": [
        "#8.Find the no of occurrences of a word in a string"
      ]
    },
    {
      "cell_type": "code",
      "metadata": {
        "id": "N1HI1lHxWPKp",
        "colab_type": "code",
        "colab": {
          "base_uri": "https://localhost:8080/",
          "height": 68
        },
        "outputId": "d2bfc7f4-ea04-4744-f80c-98a4004d6422"
      },
      "source": [
        "s1 = input(\"Enter string:\")\n",
        "s2 = input(\"Enter word:\")\n",
        "word = s1.split()\n",
        "count = 0\n",
        "for i in word:\n",
        "   if i == s2:\n",
        "      count=count+1\n",
        "print(count)"
      ],
      "execution_count": 10,
      "outputs": [
        {
          "output_type": "stream",
          "text": [
            "Enter string:hello  nikhil\n",
            "Enter word:hi nikhil\n",
            "0\n"
          ],
          "name": "stdout"
        }
      ]
    }
  ]
}